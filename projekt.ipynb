{
 "cells": [
  {
   "cell_type": "code",
   "execution_count": 1,
   "metadata": {},
   "outputs": [],
   "source": [
    "#read dat file\n",
    "import pandas as pd\n",
    "\n",
    "import matplotlib.pyplot as plt\n",
    "import seaborn as sb\n",
    "\n",
    "columns = ['frequency', 'angle_of_attack', 'chord_length', 'free_stream_velocity', 'suction_side_displacement_thickness',\n",
    "           'scaled_sound_pressure_level']\n",
    "\n",
    "#load data from .dat file\n",
    "airfoil_dataset = pd.read_csv('airfoil_self_noise.dat', sep='\\t', header=None, names=columns)"
   ]
  },
  {
   "cell_type": "code",
   "execution_count": 2,
   "metadata": {},
   "outputs": [
    {
     "data": {
      "text/html": [
       "<div>\n",
       "<style scoped>\n",
       "    .dataframe tbody tr th:only-of-type {\n",
       "        vertical-align: middle;\n",
       "    }\n",
       "\n",
       "    .dataframe tbody tr th {\n",
       "        vertical-align: top;\n",
       "    }\n",
       "\n",
       "    .dataframe thead th {\n",
       "        text-align: right;\n",
       "    }\n",
       "</style>\n",
       "<table border=\"1\" class=\"dataframe\">\n",
       "  <thead>\n",
       "    <tr style=\"text-align: right;\">\n",
       "      <th></th>\n",
       "      <th>frequency</th>\n",
       "      <th>angle_of_attack</th>\n",
       "      <th>chord_length</th>\n",
       "      <th>free_stream_velocity</th>\n",
       "      <th>suction_side_displacement_thickness</th>\n",
       "    </tr>\n",
       "  </thead>\n",
       "  <tbody>\n",
       "    <tr>\n",
       "      <th>1</th>\n",
       "      <td>1000</td>\n",
       "      <td>0.0</td>\n",
       "      <td>0.3048</td>\n",
       "      <td>71.3</td>\n",
       "      <td>0.002663</td>\n",
       "    </tr>\n",
       "    <tr>\n",
       "      <th>2</th>\n",
       "      <td>1250</td>\n",
       "      <td>0.0</td>\n",
       "      <td>0.3048</td>\n",
       "      <td>71.3</td>\n",
       "      <td>0.002663</td>\n",
       "    </tr>\n",
       "    <tr>\n",
       "      <th>3</th>\n",
       "      <td>1600</td>\n",
       "      <td>0.0</td>\n",
       "      <td>0.3048</td>\n",
       "      <td>71.3</td>\n",
       "      <td>0.002663</td>\n",
       "    </tr>\n",
       "    <tr>\n",
       "      <th>4</th>\n",
       "      <td>2000</td>\n",
       "      <td>0.0</td>\n",
       "      <td>0.3048</td>\n",
       "      <td>71.3</td>\n",
       "      <td>0.002663</td>\n",
       "    </tr>\n",
       "    <tr>\n",
       "      <th>5</th>\n",
       "      <td>2500</td>\n",
       "      <td>0.0</td>\n",
       "      <td>0.3048</td>\n",
       "      <td>71.3</td>\n",
       "      <td>0.002663</td>\n",
       "    </tr>\n",
       "  </tbody>\n",
       "</table>\n",
       "</div>"
      ],
      "text/plain": [
       "   frequency  angle_of_attack  chord_length  free_stream_velocity  \\\n",
       "1       1000              0.0        0.3048                  71.3   \n",
       "2       1250              0.0        0.3048                  71.3   \n",
       "3       1600              0.0        0.3048                  71.3   \n",
       "4       2000              0.0        0.3048                  71.3   \n",
       "5       2500              0.0        0.3048                  71.3   \n",
       "\n",
       "   suction_side_displacement_thickness  \n",
       "1                             0.002663  \n",
       "2                             0.002663  \n",
       "3                             0.002663  \n",
       "4                             0.002663  \n",
       "5                             0.002663  "
      ]
     },
     "execution_count": 2,
     "metadata": {},
     "output_type": "execute_result"
    }
   ],
   "source": [
    "#partition to data and target\n",
    "\n",
    "data = airfoil_dataset.iloc[1:,0:-1]\n",
    "target = airfoil_dataset.iloc[1:,-1]\n",
    "\n",
    "data.head()\n",
    "\n",
    "#sb.pairplot(data, diag_kind=\"kde\")"
   ]
  },
  {
   "cell_type": "code",
   "execution_count": null,
   "metadata": {},
   "outputs": [],
   "source": [
    "# #standardization\n",
    "# from sklearn.preprocessing import StandardScaler\n",
    "\n",
    "# scaler = StandardScaler()\n",
    "# scaled_data = scaler.fit_transform(data)\n",
    "\n",
    "# scaled_data_pd = pd.DataFrame(scaled_data, columns = ['frequency', 'angle_of_attack', 'chord_length', 'free_stream_velocity', \n",
    "# 'suction_side_displacement_thickness'])\n",
    "\n",
    "# scaled_data_pd.describe()"
   ]
  },
  {
   "cell_type": "code",
   "execution_count": 3,
   "metadata": {},
   "outputs": [
    {
     "name": "stdout",
     "output_type": "stream",
     "text": [
      "Training dataset:\n",
      "train_data: (1201, 5)\n",
      "train_target: (1201,)\n",
      "Testing dataset:\n",
      "test_data: (301, 5)\n",
      "test_target: (301,)\n"
     ]
    }
   ],
   "source": [
    "#partition to train and test\n",
    "from sklearn.model_selection import train_test_split\n",
    "\n",
    "train_data, test_data, train_target, test_target = train_test_split(data, target, test_size=0.2, random_state=10)\n",
    "\n",
    "print(\"Training dataset:\")\n",
    "print(\"train_data:\", train_data.shape)\n",
    "print(\"train_target:\", train_target.shape)\n",
    "\n",
    "print(\"Testing dataset:\")\n",
    "print(\"test_data:\", test_data.shape)\n",
    "print(\"test_target:\", test_target.shape)\n"
   ]
  },
  {
   "cell_type": "code",
   "execution_count": 4,
   "metadata": {},
   "outputs": [
    {
     "data": {
      "text/html": [
       "<div>\n",
       "<style scoped>\n",
       "    .dataframe tbody tr th:only-of-type {\n",
       "        vertical-align: middle;\n",
       "    }\n",
       "\n",
       "    .dataframe tbody tr th {\n",
       "        vertical-align: top;\n",
       "    }\n",
       "\n",
       "    .dataframe thead th {\n",
       "        text-align: right;\n",
       "    }\n",
       "</style>\n",
       "<table border=\"1\" class=\"dataframe\">\n",
       "  <thead>\n",
       "    <tr style=\"text-align: right;\">\n",
       "      <th></th>\n",
       "      <th>frequency</th>\n",
       "      <th>angle_of_attack</th>\n",
       "      <th>chord_length</th>\n",
       "      <th>free_stream_velocity</th>\n",
       "      <th>suction_side_displacement_thickness</th>\n",
       "    </tr>\n",
       "  </thead>\n",
       "  <tbody>\n",
       "    <tr>\n",
       "      <th>0</th>\n",
       "      <td>0.010101</td>\n",
       "      <td>0.324324</td>\n",
       "      <td>0.454545</td>\n",
       "      <td>1.000000</td>\n",
       "      <td>0.122731</td>\n",
       "    </tr>\n",
       "    <tr>\n",
       "      <th>1</th>\n",
       "      <td>0.015152</td>\n",
       "      <td>0.783784</td>\n",
       "      <td>0.000000</td>\n",
       "      <td>0.199495</td>\n",
       "      <td>0.289946</td>\n",
       "    </tr>\n",
       "    <tr>\n",
       "      <th>2</th>\n",
       "      <td>0.070707</td>\n",
       "      <td>0.000000</td>\n",
       "      <td>0.727273</td>\n",
       "      <td>1.000000</td>\n",
       "      <td>0.030042</td>\n",
       "    </tr>\n",
       "    <tr>\n",
       "      <th>3</th>\n",
       "      <td>0.002525</td>\n",
       "      <td>0.572072</td>\n",
       "      <td>0.000000</td>\n",
       "      <td>0.199495</td>\n",
       "      <td>0.217626</td>\n",
       "    </tr>\n",
       "    <tr>\n",
       "      <th>4</th>\n",
       "      <td>0.242424</td>\n",
       "      <td>0.378378</td>\n",
       "      <td>0.090909</td>\n",
       "      <td>1.000000</td>\n",
       "      <td>0.084372</td>\n",
       "    </tr>\n",
       "  </tbody>\n",
       "</table>\n",
       "</div>"
      ],
      "text/plain": [
       "   frequency  angle_of_attack  chord_length  free_stream_velocity  \\\n",
       "0   0.010101         0.324324      0.454545              1.000000   \n",
       "1   0.015152         0.783784      0.000000              0.199495   \n",
       "2   0.070707         0.000000      0.727273              1.000000   \n",
       "3   0.002525         0.572072      0.000000              0.199495   \n",
       "4   0.242424         0.378378      0.090909              1.000000   \n",
       "\n",
       "   suction_side_displacement_thickness  \n",
       "0                             0.122731  \n",
       "1                             0.289946  \n",
       "2                             0.030042  \n",
       "3                             0.217626  \n",
       "4                             0.084372  "
      ]
     },
     "execution_count": 4,
     "metadata": {},
     "output_type": "execute_result"
    }
   ],
   "source": [
    "#normalization\n",
    "from sklearn.preprocessing import MinMaxScaler\n",
    "\n",
    "# fit scaler on training data\n",
    "norm = MinMaxScaler().fit(train_data)\n",
    "\n",
    "# transform training data\n",
    "train_data_norm = norm.transform(train_data)\n",
    "\n",
    "# transform testing data\n",
    "test_data_norm = norm.transform(test_data)\n",
    "\n",
    "normalized_data_pd = pd.DataFrame(train_data_norm, columns = ['frequency', 'angle_of_attack', 'chord_length', 'free_stream_velocity', \n",
    "'suction_side_displacement_thickness'])\n",
    "\n",
    "normalized_data_pd.head()\n"
   ]
  },
  {
   "cell_type": "code",
   "execution_count": 5,
   "metadata": {},
   "outputs": [
    {
     "data": {
      "text/plain": [
       "LinearRegression()"
      ]
     },
     "execution_count": 5,
     "metadata": {},
     "output_type": "execute_result"
    }
   ],
   "source": [
    "#Linear Regression\n",
    "\n",
    "from sklearn.linear_model import LinearRegression\n",
    "\n",
    "linear_regression = LinearRegression()\n",
    "linear_regression.fit(train_data_norm, train_target)\n",
    "\n"
   ]
  },
  {
   "cell_type": "code",
   "execution_count": 56,
   "metadata": {},
   "outputs": [
    {
     "data": {
      "text/plain": [
       "MLPRegressor(hidden_layer_sizes=(2000, 1000, 550), max_iter=3000)"
      ]
     },
     "execution_count": 56,
     "metadata": {},
     "output_type": "execute_result"
    }
   ],
   "source": [
    "#Neural Network\n",
    "\n",
    "from sklearn.neural_network import MLPRegressor\n",
    "\n",
    "neural_network = MLPRegressor(hidden_layer_sizes=(200,100,50),\n",
    "                       max_iter = 300, activation = 'relu',\n",
    "                       solver = 'adam')\n",
    "\n",
    "neural_network.fit(train_data_norm, train_target)\n"
   ]
  },
  {
   "cell_type": "code",
   "execution_count": 57,
   "metadata": {},
   "outputs": [
    {
     "name": "stdout",
     "output_type": "stream",
     "text": [
      "Mean squared error of a learned linear regression model: 19.55\n",
      "Mean squared error of a learned neural network model: 26.04\n",
      "\n",
      "Variance score: 0.54\n",
      "Variance score for neural network model: 0.38\n",
      "\n",
      "Cross validation linear:\n",
      "[ 0.70551145  0.52884577  0.58908692 -0.31095165  0.53688916]\n",
      "\n",
      "Cross validation neural model:\n",
      "[-46.04840473 -28.26645209 -30.74979194 -30.71421758 -19.65135858]\n"
     ]
    }
   ],
   "source": [
    "#model evaluation\n",
    "from sklearn.metrics import mean_squared_error\n",
    "from sklearn.metrics import r2_score\n",
    "from sklearn.model_selection import cross_val_score\n",
    "\n",
    "\n",
    "print(\"Mean squared error of a learned linear regression model: %.2f\" % \n",
    "      mean_squared_error(test_target, linear_regression.predict(test_data_norm)))\n",
    "print(\"Mean squared error of a learned neural network model: %.2f\" % \n",
    "      mean_squared_error(test_target, neural_network.predict(test_data_norm)))\n",
    "print(\"\")\n",
    "\n",
    "print('Variance score: %.2f' % r2_score(test_target, linear_regression.predict(test_data_norm)))\n",
    "print('Variance score for neural network model: %.2f' % r2_score(test_target, neural_network.predict(test_data_norm)))\n",
    "print(\"\")\n",
    "\n",
    "scores = cross_val_score(LinearRegression(), data, target, cv=5)\n",
    "print(\"Cross validation linear:\")\n",
    "print(scores)\n",
    "print(\"\")\n",
    "\n",
    "scores = cross_val_score(MLPRegressor(), data, target, cv=5)\n",
    "print(\"Cross validation neural model:\")\n",
    "print(scores)\n"
   ]
  },
  {
   "cell_type": "code",
   "execution_count": 58,
   "metadata": {},
   "outputs": [
    {
     "data": {
      "image/png": "[encoded data removed]",
      "text/plain": [
       "<Figure size 432x288 with 1 Axes>"
      ]
     },
     "metadata": {
      "needs_background": "light"
     },
     "output_type": "display_data"
    }
   ],
   "source": [
    "plt.plot(neural_network.loss_curve_)\n",
    "plt.title('Neural network cost function loss')\n",
    "\n",
    "plt.xlabel('epoch'); plt.ylabel('error value'); plt.grid()"
   ]
  }
 ],
 "metadata": {
  "interpreter": {
   "hash": "d3e10ef16274dd72e574b8fa73b58450b957d8421a2901baded3cca26fcf5dda"
  },
  "kernelspec": {
   "display_name": "Python 3.10.4 64-bit (system)",
   "language": "python",
   "name": "python3"
  },
  "language_info": {
   "codemirror_mode": {
    "name": "ipython",
    "version": 3
   },
   "file_extension": ".py",
   "mimetype": "text/x-python",
   "name": "python",
   "nbconvert_exporter": "python",
   "pygments_lexer": "ipython3",
   "version": "3.10.4"
  },
  "orig_nbformat": 4
 },
 "nbformat": 4,
 "nbformat_minor": 2
}
